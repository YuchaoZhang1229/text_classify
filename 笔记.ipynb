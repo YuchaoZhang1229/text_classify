{
 "cells": [
  {
   "cell_type": "markdown",
   "metadata": {},
   "source": [
    "### 一、模型结构创建\n",
    "- 1.1. 输入输出理解\n",
    "    - `输入：`\n",
    "      \n",
    "      [N,T] 评论原始文本 → 分词 → 词典映射/id序号转换 → 形成一个数值类型的文本向量 → 组合批次数据输入数据\n",
    "      - N：N个文本，T：每个文本的长度\n",
    "    - `输出：`\n",
    "      \n",
    "      [N,2] ：N个文本的情感分类结果，2表示属于正负情感的置信度\n",
    "\n",
    "- 1.2. 模型结构\n",
    "    - 基于全连接的网络\n",
    "\n",
    "### 二、搭建整个的训练体系\n",
    "- 1.1. 整个代码的结构\n",
    "    - 数据加载\n",
    "        - NLP：分词，序号id转换、dataloader的构建 (utils)、dataset\n",
    "    - 模型、优化器、损失的创建\n",
    "    - 迭代训练、评估\n",
    "    - 模型持久化\n",
    "\n",
    "### 三、 模型部署 通用\n",
    "基于 Python Flask Web 的模型部署\n",
    "1. 将模型转换成静态结构： Torch Script、 ONNX  针对 CPU 环境； TensorRT 针对 GPU 环境\n",
    "https://pytorch.org/docs/stable/jit.html#torchscript\n",
    "https://pytorch.org/docs/stable/onnx_torchscript.html#module-torch.onnx\n",
    "2. 本地编写模型的预测代码\n",
    "仅允许存在最少的<strong>对外<strong>调用接口/方法，一般情况下两个：初始化方法、predict预测方法\n",
    "3. 编写 Flask Web 外壳\n",
    "4. 部署测试\n",
    "    - 将代码以及模型文件copy到linux服务器上，并在linux安装好运行环境，最终通过python命令启动服务即可；\n",
    "    - 通过python requests库远程访问linux上的服务进行check\n",
    "\n"
   ]
  },
  {
   "cell_type": "code",
   "execution_count": 21,
   "metadata": {
    "ExecuteTime": {
     "end_time": "2023-10-25T15:11:22.051379500Z",
     "start_time": "2023-10-25T15:11:22.028374800Z"
    }
   },
   "outputs": [
    {
     "name": "stdout",
     "output_type": "stream",
     "text": [
      "tensor([[184, 345, 122, 298,  46, 364, 291, 183],\n",
      "        [373, 115, 287, 177, 197, 493,  66, 275],\n",
      "        [ 37, 448, 494, 361, 496, 290, 408, 458],\n",
      "        [251, 400, 446, 440, 237, 109,   6, 411]])\n"
     ]
    }
   ],
   "source": [
    "import torch \n",
    "vocab_size = 500  # 0-499 序号编码\n",
    "_x = torch.randint(vocab_size, size=(4,8))\n",
    "print(_x)"
   ]
  },
  {
   "cell_type": "markdown",
   "source": [],
   "metadata": {
    "collapsed": false
   }
  },
  {
   "cell_type": "code",
   "execution_count": 24,
   "outputs": [
    {
     "name": "stdout",
     "output_type": "stream",
     "text": [
      "2.0.1+cu117\n",
      "0.15.2+cu117\n",
      "2.11.2\n"
     ]
    }
   ],
   "source": [
    "import torch\n",
    "print(torch.__version__)\n",
    "\n",
    "# 查看 torchvision 版本\n",
    "import torchvision\n",
    "print(torchvision.__version__)\n",
    "\n",
    "import tensorboard\n",
    "print(tensorboard.__version__)"
   ],
   "metadata": {
    "collapsed": false,
    "ExecuteTime": {
     "end_time": "2023-10-25T15:11:25.898246800Z",
     "start_time": "2023-10-25T15:11:25.403134200Z"
    }
   }
  },
  {
   "cell_type": "markdown",
   "metadata": {},
   "source": [
    "问题：置信度和概率是什么关系？\n",
    "解答：置信度是概率的一种特殊情况，即假设概率分布服从正态分布，置信度为95%时，概率为0.95。"
   ]
  }
 ],
 "metadata": {
  "kernelspec": {
   "display_name": "Python 3 (ipykernel)",
   "language": "python",
   "name": "python3"
  },
  "language_info": {
   "name": "python",
   "version": "3.9.16"
  }
 },
 "nbformat": 4,
 "nbformat_minor": 2
}
